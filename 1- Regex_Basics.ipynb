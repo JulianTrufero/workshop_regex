{
 "cells": [
  {
   "cell_type": "markdown",
   "id": "9899a501",
   "metadata": {
    "toc": true
   },
   "source": [
    "<h1>Table of Contents<span class=\"tocSkip\"></span></h1>\n",
    "<div class=\"toc\"><ul class=\"toc-item\"><li><span><a href=\"#Common-operators\" data-toc-modified-id=\"Common-operators-1\"><span class=\"toc-item-num\">1&nbsp;&nbsp;</span>Common operators</a></span></li><li><span><a href=\"#Syntax\" data-toc-modified-id=\"Syntax-2\"><span class=\"toc-item-num\">2&nbsp;&nbsp;</span>Syntax</a></span></li><li><span><a href=\"#Let's-get-to-work!\" data-toc-modified-id=\"Let's-get-to-work!-3\"><span class=\"toc-item-num\">3&nbsp;&nbsp;</span>Let's get to work!</a></span></li></ul></div>"
   ]
  },
  {
   "cell_type": "markdown",
   "id": "7e8357a8",
   "metadata": {},
   "source": [
    "<img src=\"https://github.com/AnaAGG/workshop_regex/blob/main/images/portada1.jpeg\" alt=\"portada\" width=\"200\"/>"
   ]
  },
  {
   "cell_type": "markdown",
   "id": "8d27d67f",
   "metadata": {},
   "source": [
    "### Common operators"
   ]
  },
  {
   "cell_type": "markdown",
   "id": "e5d4e60a",
   "metadata": {},
   "source": [
    "- `+` : match the preceding character one or more times.\n",
    "    \n",
    "   For example `ab+c` matches **“abc”**, **“abbc”**, **“abbbc”** but it doesn’t match **“ac”**.\n",
    " \n",
    "\n",
    "- `*` : match the preceding character zero or more times.\n",
    "\n",
    "    For example `ab*c` matches **“abc”**, **“abbc”**, **“abbbc”** and **“ac”**\n",
    "\n",
    "\n",
    "- `?` : indicates zero or one occurences of the preceding element.\n",
    "\n",
    "    For example, `colou?r` matches both **\"color\"** and **\"colour\"**.\n",
    "    \n",
    "    \n",
    "- `.` : matches any single character.\n",
    "\n",
    "    For example `a.c` matches **“abc”**, **“adc”**, **“aec”** etc.\n",
    "    \n",
    "    If we wanted to match multiple characters before the letter “c”, we would just use the star `*` from above like this: `a.*c` and this would match **“abdefghc”**.\n",
    "    \n",
    "    \n",
    "- `^` : matches the starting position of any string\n",
    "\n",
    "    For example `^b` matches **bat**, **ball**, **basketball** etc. \n",
    "\n",
    "\n",
    "- `$` : matches the ending position of any string\n",
    "\n",
    "    For example `^t` matches **hat**, **cat** etc."
   ]
  },
  {
   "cell_type": "markdown",
   "id": "4600b97b",
   "metadata": {},
   "source": [
    "### Syntax"
   ]
  },
  {
   "cell_type": "markdown",
   "id": "1ca87ca4",
   "metadata": {},
   "source": [
    "\n",
    "https://www.w3schools.com/python/python_regex.asp\n",
    "\n",
    "- `\\w`, `\\d`, `\\s`, `\\n`, `\\W`, `\\D`, `\\S` : types of characters\n",
    "\n",
    "     \n",
    "- `()` : isolate just a part of our search pattern that we would like to return\n",
    "\n",
    "\n",
    "\n",
    "- `[]` : include all the characters we would like to match and even include ranges like this: a-z and 0–9.\n",
    "\n",
    "    For example find all lower case characters in a string `[a-z]` \n",
    "    \n",
    "    \n",
    "   ⚠️ Here it simply refers to all **lowercase** alphabets from a to z. ⚠️\n",
    "    \n",
    "   To uppercase characters `[A-Z]`\n",
    "    \n",
    "   To numbers `[0-9]`\n",
    "    \n",
    "   🚨 **Note** `[^ch]` matches with all string **NOT** beginning with **ch**\n",
    "    \n",
    "    \n",
    "- `|` : Either or\n",
    "\n",
    "    For example `hello|hi` check if the string contains \"hello\" or \"hi\"\n",
    "    \n",
    "    \n",
    "- `\\` : signal a special sequence (can also be used to escape special characters)\n",
    "\n",
    "    For example `\\d` matches with all digits in the string. \n",
    "    \n",
    "\n",
    "- `{}`:\tExactly the specified number of occurrences\n",
    "\n",
    "    For example `al{2}` matches **all** but not with **alchemy* "
   ]
  },
  {
   "cell_type": "markdown",
   "id": "5159d92f",
   "metadata": {},
   "source": [
    "### Let's get to work!"
   ]
  },
  {
   "cell_type": "markdown",
   "id": "a1a77c0b",
   "metadata": {},
   "source": [
    "https://regexone.com/"
   ]
  },
  {
   "cell_type": "code",
   "execution_count": null,
   "id": "2eb384de",
   "metadata": {},
   "outputs": [],
   "source": []
  }
 ],
 "metadata": {
  "kernelspec": {
   "display_name": "ironhack",
   "language": "python",
   "name": "ironhack"
  },
  "language_info": {
   "codemirror_mode": {
    "name": "ipython",
    "version": 3
   },
   "file_extension": ".py",
   "mimetype": "text/x-python",
   "name": "python",
   "nbconvert_exporter": "python",
   "pygments_lexer": "ipython3",
   "version": "3.8.5"
  },
  "toc": {
   "base_numbering": 1,
   "nav_menu": {},
   "number_sections": true,
   "sideBar": true,
   "skip_h1_title": false,
   "title_cell": "Table of Contents",
   "title_sidebar": "Contents",
   "toc_cell": true,
   "toc_position": {},
   "toc_section_display": true,
   "toc_window_display": true
  }
 },
 "nbformat": 4,
 "nbformat_minor": 5
}
