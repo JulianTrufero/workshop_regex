{
 "cells": [
  {
   "cell_type": "markdown",
   "id": "8a8d8db4",
   "metadata": {
    "toc": true
   },
   "source": [
    "<h1>Table of Contents<span class=\"tocSkip\"></span></h1>\n",
    "<div class=\"toc\"><ul class=\"toc-item\"><li><span><a href=\"#Load-libraries\" data-toc-modified-id=\"Load-libraries-1\"><span class=\"toc-item-num\">1&nbsp;&nbsp;</span>Load libraries</a></span></li><li><span><a href=\"#Principal-Functions:\" data-toc-modified-id=\"Principal-Functions:-2\"><span class=\"toc-item-num\">2&nbsp;&nbsp;</span>Principal Functions:</a></span><ul class=\"toc-item\"><li><span><a href=\"#sub()\" data-toc-modified-id=\"sub()-2.1\"><span class=\"toc-item-num\">2.1&nbsp;&nbsp;</span>sub()</a></span></li><li><span><a href=\"#split()\" data-toc-modified-id=\"split()-2.2\"><span class=\"toc-item-num\">2.2&nbsp;&nbsp;</span>split()</a></span></li><li><span><a href=\"#findall()\" data-toc-modified-id=\"findall()-2.3\"><span class=\"toc-item-num\">2.3&nbsp;&nbsp;</span>findall()</a></span></li><li><span><a href=\"#match()\" data-toc-modified-id=\"match()-2.4\"><span class=\"toc-item-num\">2.4&nbsp;&nbsp;</span>match()</a></span></li><li><span><a href=\"#search()\" data-toc-modified-id=\"search()-2.5\"><span class=\"toc-item-num\">2.5&nbsp;&nbsp;</span>search()</a></span></li></ul></li><li><span><a href=\"#Let's-get-to-work!\" data-toc-modified-id=\"Let's-get-to-work!-3\"><span class=\"toc-item-num\">3&nbsp;&nbsp;</span>Let's get to work!</a></span></li></ul></div>"
   ]
  },
  {
   "cell_type": "markdown",
   "id": "dbdf04c3",
   "metadata": {},
   "source": [
    "### Load libraries"
   ]
  },
  {
   "cell_type": "code",
   "execution_count": 2,
   "id": "59f60eff",
   "metadata": {},
   "outputs": [],
   "source": [
    "import re"
   ]
  },
  {
   "cell_type": "markdown",
   "id": "81ecbc02",
   "metadata": {},
   "source": [
    "### Principal Functions:\n",
    "\n",
    "- **sub** :\treplaces one or many matches with a string.\n",
    "\n",
    "\n",
    "- **split** : returns a list where the string has been split at each match.\n",
    "\n",
    "\n",
    "- **findall** :\treturns a list containing all matches.\n",
    "\n",
    "\n",
    "- **search** : returns a Match object if there is a match anywhere in the string.\n",
    "\n",
    "\n",
    "- **match** : search the regular expression pattern and return the first occurrence. "
   ]
  },
  {
   "cell_type": "markdown",
   "id": "f239e83c",
   "metadata": {},
   "source": [
    "#### sub() \n",
    "Replaces one or many matches with a string"
   ]
  },
  {
   "cell_type": "code",
   "execution_count": 5,
   "id": "490aa82a",
   "metadata": {},
   "outputs": [
    {
     "name": "stdout",
     "output_type": "stream",
     "text": [
      "Th9 rain in Spain\n"
     ]
    }
   ],
   "source": [
    "txt = \"The rain in Spain\"\n",
    "x = re.sub(\"e\", \"9\", txt)\n",
    "print(x)"
   ]
  },
  {
   "cell_type": "code",
   "execution_count": 6,
   "id": "3e6419d9",
   "metadata": {},
   "outputs": [],
   "source": [
    "txt3 = \"Weeeeeee, estoy haciendo un bootcamp de data en Ironhack???\"\n",
    "#Escape special character, quantifiers\n",
    "\n",
    "prueba = re.sub(r'\\?{3}','!!',txt3)"
   ]
  },
  {
   "cell_type": "code",
   "execution_count": 7,
   "id": "d4501c70",
   "metadata": {},
   "outputs": [
    {
     "data": {
      "text/plain": [
       "'Weeeeeee, estoy haciendo un bootcamp de data en Ironhack!!'"
      ]
     },
     "execution_count": 7,
     "metadata": {},
     "output_type": "execute_result"
    }
   ],
   "source": [
    "prueba"
   ]
  },
  {
   "cell_type": "code",
   "execution_count": 8,
   "id": "2ceca87f",
   "metadata": {},
   "outputs": [
    {
     "name": "stdout",
     "output_type": "stream",
     "text": [
      "The9 rain9 in Spain\n"
     ]
    }
   ],
   "source": [
    "# Replace the first 2 occurrences:\n",
    "\n",
    "txt = \"The rain in Spain\"\n",
    "x = re.sub(\"\\s\", \"9 \", txt, 2)\n",
    "print(x)"
   ]
  },
  {
   "cell_type": "markdown",
   "id": "39d121aa",
   "metadata": {},
   "source": [
    "#### split()\n",
    "Returns a list where the string has been split at each match"
   ]
  },
  {
   "cell_type": "code",
   "execution_count": 9,
   "id": "e0b9748b",
   "metadata": {},
   "outputs": [],
   "source": [
    "s_nums = 'one1two22three333four'\n",
    "\n",
    "numbers = re.split('\\d+', s_nums)\n"
   ]
  },
  {
   "cell_type": "code",
   "execution_count": 10,
   "id": "f504dded",
   "metadata": {},
   "outputs": [
    {
     "data": {
      "text/plain": [
       "['one', 'two', 'three', 'four']"
      ]
     },
     "execution_count": 10,
     "metadata": {},
     "output_type": "execute_result"
    }
   ],
   "source": [
    "numbers"
   ]
  },
  {
   "cell_type": "code",
   "execution_count": 11,
   "id": "ac2f0e45",
   "metadata": {},
   "outputs": [
    {
     "data": {
      "text/plain": [
       "['one', 'two', 'three333four']"
      ]
     },
     "execution_count": 11,
     "metadata": {},
     "output_type": "execute_result"
    }
   ],
   "source": [
    "# The maximum number of splits can be specified in the third parameter maxsplit.\n",
    "\n",
    "numbers2 = re.split('\\d+', s_nums, 2)\n",
    "numbers2"
   ]
  },
  {
   "cell_type": "code",
   "execution_count": 12,
   "id": "725c4152",
   "metadata": {},
   "outputs": [
    {
     "data": {
      "text/plain": [
       "['one', 'two', 'three', 'four']"
      ]
     },
     "execution_count": 12,
     "metadata": {},
     "output_type": "execute_result"
    }
   ],
   "source": [
    "# Split by multiple different delimiters\n",
    "# Enclose a string with [] to match any single character in it. \n",
    "\n",
    "s_marks = 'one-two+three#four'\n",
    "\n",
    "multiple = re.split('[-+#]', s_marks)\n",
    "multiple"
   ]
  },
  {
   "cell_type": "markdown",
   "id": "c07f5119",
   "metadata": {},
   "source": [
    "#### findall()\n",
    "Returns a list of strings containing all matches\n",
    "\n",
    "https://blog.finxter.com/python-re-findall/#How_Does_the_findall_Method_Work_in_Python"
   ]
  },
  {
   "cell_type": "code",
   "execution_count": 13,
   "id": "71ccef8c",
   "metadata": {},
   "outputs": [
    {
     "name": "stdout",
     "output_type": "stream",
     "text": [
      "['ai', 'ai']\n"
     ]
    }
   ],
   "source": [
    "txt = \"The rain in Spain\"\n",
    "x =re.findall(\"ai\", txt)\n",
    "print(x)"
   ]
  },
  {
   "cell_type": "code",
   "execution_count": null,
   "id": "ebfd9700",
   "metadata": {},
   "outputs": [],
   "source": []
  },
  {
   "cell_type": "markdown",
   "id": "7dfafbc3",
   "metadata": {},
   "source": [
    "#### match()\n",
    "Search the regular expression pattern and return the first occurrence in the **first line**. \n",
    "\n",
    "But if a match is found in some other line, the Python RegEx Match function returns null."
   ]
  },
  {
   "cell_type": "code",
   "execution_count": 25,
   "id": "0685415b",
   "metadata": {},
   "outputs": [],
   "source": [
    "String1 ='''Regex! We are learning regex !!!\n",
    "         regex is very useful for string matching.\n",
    "          It is fast too.'''\n",
    "\n",
    "String2 ='''We are learning regex !!!\n",
    "         regex is very useful for string matching.\n",
    "          It is fast too.'''"
   ]
  },
  {
   "cell_type": "code",
   "execution_count": 26,
   "id": "cbdcbd26",
   "metadata": {},
   "outputs": [
    {
     "name": "stdout",
     "output_type": "stream",
     "text": [
      "<re.Match object; span=(0, 5), match='Regex'> 🤩\n"
     ]
    }
   ],
   "source": [
    "pat = re.match(\"[r|R]egex\", String1)\n",
    "if pat :\n",
    "    print(pat, \"🤩\")\n",
    "else:\n",
    "    print(\"No match.. sorry 😔\")\n",
    "    "
   ]
  },
  {
   "cell_type": "code",
   "execution_count": 14,
   "id": "3ec12957",
   "metadata": {},
   "outputs": [
    {
     "name": "stdout",
     "output_type": "stream",
     "text": [
      "No match.. sorry 😔\n"
     ]
    }
   ],
   "source": [
    "if re.match(\"[r|R]egex\", String2):\n",
    "    print(\"Match!! 🤓\")\n",
    "else:\n",
    "    print(\"No match.. sorry 😔\")\n",
    "    "
   ]
  },
  {
   "cell_type": "markdown",
   "id": "0f0ba6ce",
   "metadata": {},
   "source": [
    "**Ok, but... How can extract the match information? 🤔**"
   ]
  },
  {
   "cell_type": "code",
   "execution_count": 39,
   "id": "2b4dc70f",
   "metadata": {},
   "outputs": [
    {
     "data": {
      "text/plain": [
       "(0, 5)"
      ]
     },
     "execution_count": 39,
     "metadata": {},
     "output_type": "execute_result"
    }
   ],
   "source": [
    "# start and end index of the matched string.\n",
    "pat.span()"
   ]
  },
  {
   "cell_type": "code",
   "execution_count": 36,
   "id": "204db1b0",
   "metadata": {},
   "outputs": [
    {
     "data": {
      "text/plain": [
       "'Regex! We are learning regex !!!\\n         regex is very useful for string matching.\\n          It is fast too.'"
      ]
     },
     "execution_count": 36,
     "metadata": {},
     "output_type": "execute_result"
    }
   ],
   "source": [
    "# Print the string passed into the function:\n",
    "pat.string"
   ]
  },
  {
   "cell_type": "code",
   "execution_count": 37,
   "id": "52a1d0c7",
   "metadata": {
    "scrolled": true
   },
   "outputs": [
    {
     "data": {
      "text/plain": [
       "'Regex'"
      ]
     },
     "execution_count": 37,
     "metadata": {},
     "output_type": "execute_result"
    }
   ],
   "source": [
    "# Print the part of the string where there was a match.\n",
    "pat.group()"
   ]
  },
  {
   "cell_type": "markdown",
   "id": "cb2107bf",
   "metadata": {},
   "source": [
    "#### search()\n",
    "Returns a match object if there is a match anywhere in the string\n",
    "\n",
    "⚠️If **no matches** are found, the value `None` is returned"
   ]
  },
  {
   "cell_type": "code",
   "execution_count": 15,
   "id": "8933199d",
   "metadata": {},
   "outputs": [],
   "source": [
    "email = \"Hi my name is Alice and my email is Alice@mycompany.com\\n hola@mycompany.com\" #string"
   ]
  },
  {
   "cell_type": "code",
   "execution_count": 16,
   "id": "031f9a8a",
   "metadata": {},
   "outputs": [
    {
     "data": {
      "text/plain": [
       "<re.Match object; span=(36, 55), match='Alice@mycompany.com'>"
      ]
     },
     "execution_count": 16,
     "metadata": {},
     "output_type": "execute_result"
    }
   ],
   "source": [
    "pattern = r'(\\w+)@([\\w\\.]+)' #pattern\n",
    "el_search = re.search(pattern, email) #re.search(pattern, string)\n",
    "el_search"
   ]
  },
  {
   "cell_type": "code",
   "execution_count": 17,
   "id": "9e84e991",
   "metadata": {},
   "outputs": [
    {
     "data": {
      "text/plain": [
       "re.Match"
      ]
     },
     "execution_count": 17,
     "metadata": {},
     "output_type": "execute_result"
    }
   ],
   "source": [
    "type(el_search)"
   ]
  },
  {
   "cell_type": "code",
   "execution_count": 18,
   "id": "00397a83",
   "metadata": {},
   "outputs": [
    {
     "name": "stdout",
     "output_type": "stream",
     "text": [
      "<re.Match object; span=(36, 55), match='Alice@mycompany.com'>\n"
     ]
    }
   ],
   "source": [
    "print(el_search)"
   ]
  },
  {
   "cell_type": "code",
   "execution_count": 19,
   "id": "68bc36f7",
   "metadata": {},
   "outputs": [
    {
     "data": {
      "text/plain": [
       "'Alice@mycompany.com'"
      ]
     },
     "execution_count": 19,
     "metadata": {},
     "output_type": "execute_result"
    }
   ],
   "source": [
    "el_search.group()"
   ]
  },
  {
   "cell_type": "markdown",
   "id": "13f4069c",
   "metadata": {},
   "source": [
    "🔴 So... **What is it the difference between `search` , `match` and `findall`?**\n",
    "\n",
    "- Both `search()` and `match()` returns only the first occurrence of a substring in the string and ignore others. \n",
    "\n",
    "\n",
    "- `search()` searches for the whole string even if the string contains multi-lines.\n",
    "\n",
    "\n",
    "- `match()` searches only from the beginning of the string and return match object if found. \n",
    "\n",
    "- `search` \n",
    "\n",
    "\n",
    "More info about the difference between `findall`, `search` and `match` [here](https://www.geeksforgeeks.org/python-re-search-vs-re-match/) and [here](https://blog.finxter.com/python-re-findall/#How_Does_the_findall_Method_Work_in_Python)"
   ]
  },
  {
   "cell_type": "markdown",
   "id": "dd9c7eaf",
   "metadata": {},
   "source": [
    "|  method |who finds   | who returns  |\n",
    "|---|---|---|\n",
    "|**findall()**  |all matches in all string| list |\n",
    "|**search()**   |first match  in all string | object  |\n",
    "|**match()**  | all matches in the first line   | object |"
   ]
  },
  {
   "cell_type": "markdown",
   "id": "6727074f",
   "metadata": {},
   "source": [
    "### Let's get to work!\n",
    "\n",
    "Posible katas:\n",
    "\n",
    "**Regex validate PIN code** : https://www.codewars.com/kata/55f8a9c06c018a0d6e000132\n",
    "\n",
    "\n",
    "**Regexp Basics - is it a letter?** : https://www.codewars.com/kata/567de72e8b3621b3c300000b\n",
    "\n",
    "https://www.codewars.com/kata/567bed99ee3451292c000025/train/python\n",
    "\n"
   ]
  },
  {
   "cell_type": "code",
   "execution_count": null,
   "id": "5e2b252d",
   "metadata": {},
   "outputs": [],
   "source": []
  }
 ],
 "metadata": {
  "kernelspec": {
   "display_name": "ironhack",
   "language": "python",
   "name": "ironhack"
  },
  "language_info": {
   "codemirror_mode": {
    "name": "ipython",
    "version": 3
   },
   "file_extension": ".py",
   "mimetype": "text/x-python",
   "name": "python",
   "nbconvert_exporter": "python",
   "pygments_lexer": "ipython3",
   "version": "3.8.5"
  },
  "toc": {
   "base_numbering": 1,
   "nav_menu": {},
   "number_sections": true,
   "sideBar": true,
   "skip_h1_title": false,
   "title_cell": "Table of Contents",
   "title_sidebar": "Contents",
   "toc_cell": true,
   "toc_position": {},
   "toc_section_display": true,
   "toc_window_display": false
  }
 },
 "nbformat": 4,
 "nbformat_minor": 5
}
